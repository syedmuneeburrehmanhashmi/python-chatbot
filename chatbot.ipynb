{
 "cells": [
  {
   "cell_type": "markdown",
   "metadata": {},
   "source": [
    "## Import libraries and modules"
   ]
  },
  {
   "cell_type": "code",
   "execution_count": null,
   "metadata": {},
   "outputs": [],
   "source": [
    "import re\n",
    "import time\n",
    "import requests\n",
    "import random\n",
    "import pyttsx3\n",
    "import urllib.request\n",
    "from bs4 import BeautifulSoup"
   ]
  },
  {
   "cell_type": "markdown",
   "metadata": {},
   "source": [
    "## Define variables"
   ]
  },
  {
   "cell_type": "code",
   "execution_count": 2,
   "metadata": {},
   "outputs": [],
   "source": [
    "name = \"AVA\"\n",
    "curCity = \"Karachi\"\n",
    "color = \"Blue\"\n",
    "\n",
    "bot_template = \"AVA : {0}\"\n",
    "user_template = \"USER : {0}\""
   ]
  },
  {
   "cell_type": "markdown",
   "metadata": {},
   "source": [
    "# Define the Weather Spider"
   ]
  },
  {
   "cell_type": "code",
   "execution_count": 3,
   "metadata": {},
   "outputs": [],
   "source": [
    "def weatherFunc(city):\n",
    "    url=\"https://www.timeanddate.com/weather/pakistan/{0}\"\n",
    "    url = url.format(city)\n",
    "    \n",
    "    data= requests.get(url)\n",
    "    \n",
    "    soup = BeautifulSoup(data.text, \"html.parser\")\n",
    "    \n",
    "    data = soup.find('div', {\"id\":\"qlook\"})\n",
    "    degree = data.find('div', {\"class\":\"h2\"})\n",
    "    forecast = data.find('p')\n",
    "    \n",
    "    return degree.contents[0], forecast.contents[0]"
   ]
  },
  {
   "cell_type": "markdown",
   "metadata": {},
   "source": [
    "## Define the Dictionary Spider"
   ]
  },
  {
   "cell_type": "code",
   "execution_count": null,
   "metadata": {},
   "outputs": [],
   "source": [
    "def wordFunc(word):\n",
    "    url=\"https://www.dictionary.com/browse/\"\n",
    "    url= url+word\n",
    "    \n",
    "    data= urllib.request.urlopen(url).read()\n",
    "    data1= data.decode(\"utf-8\")\n",
    "    \n",
    "    search1= re.search('meta name=\"description\" content=\"', data1)\n",
    "    search2= re.search(\"See\", data1)\n",
    "    \n",
    "    start = search1.end()\n",
    "    end = search2.end()\n",
    "    end = end-4\n",
    "    \n",
    "    meaning= data1[start:end]\n",
    "    return meaning"
   ]
  },
  {
   "cell_type": "markdown",
   "metadata": {},
   "source": [
    "## Define a dictionary containing a list of responses for each message"
   ]
  },
  {
   "cell_type": "code",
   "execution_count": null,
   "metadata": {},
   "outputs": [],
   "source": [
    "responses = {\n",
    "  \"name\": [\n",
    "      \"My name is {0}\".format(name),\n",
    "      \"They call me {0}\".format(name),\n",
    "      \"I go by {0}\".format(name)\n",
    "   ],\n",
    "  \"what's your favourite color?\" : [\n",
    "      \"my favourite color is {0}\".format(color)\n",
    "    ],\n",
    "  \"default\": [\"default message\"],\n",
    "  \"questions\": [\n",
    "\t\"you tell me!\",\n",
    "\t\"Can't catch up on that!\",\n",
    "\t\"Hello?? Couldn't get that..\"\n",
    "   ],\n",
    "  \"statements\": [\n",
    "\t\"Oh! That's intersting to hear!\",\n",
    "\t\"Oh WoW!\",\n",
    "\t\"WeW!!\",\n",
    "\t\"I like that!\"]\n",
    "}"
   ]
  },
  {
   "cell_type": "markdown",
   "metadata": {},
   "source": [
    "## Define Response and use random.choice() to choose a matching response"
   ]
  },
  {
   "cell_type": "code",
   "execution_count": null,
   "metadata": {},
   "outputs": [],
   "source": [
    "def respond(message):\n",
    "    if bool(re.search(\"your name\", message)) == True:\n",
    "        bot_message = random.choice(responses[\"name\"])\n",
    "        #Check for a question mark\n",
    "    elif bool(re.search(\"what\\'s the meaning of \", message)) == True:\n",
    "        search = re.search(\"what\\'s the meaning of \", message)\n",
    "        start = search.end()\n",
    "        search1 = re.search(\"\\?\", message)\n",
    "        end = search1.start()\n",
    "        word = message[start:end]\n",
    "        bot_message = wordFunc(word)\n",
    "    elif bool(re.search(\"what\\'s the weather today in \", message)) == True:\n",
    "        search = re.search(\"what\\'s the weather today in \", message)\n",
    "        start = search.end()\n",
    "        search1 = re.search(\"\\?\", message)\n",
    "        end = search1.start()\n",
    "        city = message[start:end]\n",
    "        weather = weatherFunc(city)\n",
    "        bot_message = \"The weather today is {0} and {1} in \".format(weather[0],\n",
    "                                            weather[1][:-1]) + city +'.'\n",
    "    elif message.endswith('?')==True:\n",
    "        # Return a random question\n",
    "        bot_message = random.choice(responses[\"questions\"])\n",
    "    else:\n",
    "        #Return a random statement\n",
    "        bot_message = random.choice(responses[\"statements\"])\n",
    "    return bot_message"
   ]
  },
  {
   "cell_type": "markdown",
   "metadata": {},
   "source": [
    "## Define a function that sends a message to the bot and and convert it to text"
   ]
  },
  {
   "cell_type": "code",
   "execution_count": null,
   "metadata": {},
   "outputs": [],
   "source": [
    "def send_message(message):\n",
    "    # Get the bot's response to the message\n",
    "    response = respond(message)\n",
    "    # Print the bot template including the bot's response.\n",
    "    time.sleep(1)\n",
    "    print(bot_template.format(response))\n",
    "    engine = pyttsx3.init()\n",
    "    engine.say(response)\n",
    "    engine.runAndWait()\n",
    "\n",
    "\n",
    "    \n",
    "\n",
    "while True:\n",
    "    send_message(input(\"USER: \"))"
   ]
  },
  {
   "cell_type": "code",
   "execution_count": null,
   "metadata": {},
   "outputs": [],
   "source": []
  }
 ],
 "metadata": {
  "kernelspec": {
   "display_name": "Python 3",
   "language": "python",
   "name": "python3"
  },
  "language_info": {
   "codemirror_mode": {
    "name": "ipython",
    "version": 3
   },
   "file_extension": ".py",
   "mimetype": "text/x-python",
   "name": "python",
   "nbconvert_exporter": "python",
   "pygments_lexer": "ipython3",
   "version": "3.7.3"
  }
 },
 "nbformat": 4,
 "nbformat_minor": 2
}
